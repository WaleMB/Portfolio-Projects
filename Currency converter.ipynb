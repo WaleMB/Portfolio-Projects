{
 "cells": [
  {
   "cell_type": "code",
   "execution_count": 8,
   "id": "588f0cb2-cd48-41d7-b1db-d283d7370c6c",
   "metadata": {},
   "outputs": [],
   "source": [
    "import requests\n",
    "\n",
    "# Function to fetch exchange rate from an API\n",
    "def get_exchange_rate(base_currency, target_currency):\n",
    "    \"\"\"\n",
    "    Fetches the exchange rate for the given currency pair from an API.\n",
    "    Returns the exchange rate if found, otherwise returns None.\n",
    "    \"\"\"\n",
    "    url = f\"https://api.exchangerate-api.com/v4/latest/{base_currency}\"\n",
    "    response = requests.get(url)\n",
    "    if response.status_code != 200:\n",
    "        return None\n",
    "    data = response.json()\n",
    "    return data['rates'].get(target_currency, None)"
   ]
  },
  {
   "cell_type": "code",
   "execution_count": 9,
   "id": "0995b351-215b-4703-9d6d-7c24313e45c5",
   "metadata": {},
   "outputs": [],
   "source": [
    "# Function to convert currency using the fetched exchange rate\n",
    "def convert_currency(amount, base_currency, target_currency):\n",
    "    \"\"\"\n",
    "    Converts the given amount from the base currency to the target currency using the fetched exchange rate.\n",
    "    Returns the converted amount if successful, otherwise returns None.\n",
    "    \"\"\"\n",
    "    rate = get_exchange_rate(base_currency, target_currency)\n",
    "    if rate:\n",
    "        converted_amount = amount * rate\n",
    "        return converted_amount\n",
    "    else:\n",
    "        return None"
   ]
  },
  {
   "cell_type": "code",
   "execution_count": 10,
   "id": "4c49d123-e453-478d-9d07-14bbebba1237",
   "metadata": {},
   "outputs": [],
   "source": [
    "# Main function to interact with the user\n",
    "def main():\n",
    "    \"\"\"\n",
    "    Handles user input and performs currency conversion.\n",
    "    Ensures proper validation of input values.\n",
    "    \"\"\"\n",
    "    print(\"Currency Converter\")\n",
    "    print(\"Available currency codes: USD, EUR, GBP, JPY, AUD, CAD, CHF, CNY, SEK, NZD, etc.\")\n",
    "    \n",
    "    # Loop to get a valid amount from the user\n",
    "    while True:\n",
    "        try:\n",
    "            amount = float(input(\"Enter the amount: \"))\n",
    "            if amount <= 0:\n",
    "                print(\"Amount must be greater than zero. Please try again.\")\n",
    "                continue\n",
    "            break\n",
    "        except ValueError:\n",
    "            print(\"Invalid input. Please enter a numeric value.\")\n",
    "    \n",
    "    # Loop to get a valid base currency code\n",
    "    while True:\n",
    "        base_currency = input(\"Enter the base currency (e.g., USD): \").upper()\n",
    "        if len(base_currency) != 3 or not base_currency.isalpha():\n",
    "            print(\"Invalid currency code. Please enter a valid 3-letter currency code.\")\n",
    "        else:\n",
    "            break\n",
    "    \n",
    "    # Loop to get a valid target currency code\n",
    "    while True:\n",
    "        target_currency = input(\"Enter the target currency (e.g., EUR): \").upper()\n",
    "        if len(target_currency) != 3 or not target_currency.isalpha():\n",
    "            print(\"Invalid currency code. Please enter a valid 3-letter currency code.\")\n",
    "        else:\n",
    "            break\n",
    "    \n",
    "    # Converting currency and displaying the result\n",
    "    result = convert_currency(amount, base_currency, target_currency)\n",
    "    \n",
    "    if result:\n",
    "        print(f\"{amount} {base_currency} is equal to {result:.2f} {target_currency}\")\n",
    "    else:\n",
    "        print(\"Invalid currency code or conversion failed.\")"
   ]
  },
  {
   "cell_type": "code",
   "execution_count": 14,
   "id": "91b57225-5a20-44c0-894c-ed886471c970",
   "metadata": {},
   "outputs": [
    {
     "name": "stdout",
     "output_type": "stream",
     "text": [
      "Currency Converter\n",
      "Available currency codes: USD, EUR, GBP, JPY, AUD, CAD, CHF, CNY, SEK, NZD, etc.\n"
     ]
    },
    {
     "name": "stdin",
     "output_type": "stream",
     "text": [
      "Enter the amount:  w\n"
     ]
    },
    {
     "name": "stdout",
     "output_type": "stream",
     "text": [
      "Invalid input. Please enter a numeric value.\n"
     ]
    },
    {
     "name": "stdin",
     "output_type": "stream",
     "text": [
      "Enter the amount:  4\n",
      "Enter the base currency (e.g., USD):  s\n"
     ]
    },
    {
     "name": "stdout",
     "output_type": "stream",
     "text": [
      "Invalid currency code. Please enter a valid 3-letter currency code.\n"
     ]
    },
    {
     "name": "stdin",
     "output_type": "stream",
     "text": [
      "Enter the base currency (e.g., USD):  eur\n",
      "Enter the target currency (e.g., EUR):  gbp\n"
     ]
    },
    {
     "name": "stdout",
     "output_type": "stream",
     "text": [
      "4.0 EUR is equal to 3.34 GBP\n"
     ]
    }
   ],
   "source": [
    "# Entry point of the script\n",
    "if __name__ == \"__main__\":\n",
    "    main()"
   ]
  },
  {
   "cell_type": "code",
   "execution_count": null,
   "id": "6365b1c9-924c-4c72-b5b3-424b895406bf",
   "metadata": {},
   "outputs": [],
   "source": []
  }
 ],
 "metadata": {
  "kernelspec": {
   "display_name": "Python [conda env:base] *",
   "language": "python",
   "name": "conda-base-py"
  },
  "language_info": {
   "codemirror_mode": {
    "name": "ipython",
    "version": 3
   },
   "file_extension": ".py",
   "mimetype": "text/x-python",
   "name": "python",
   "nbconvert_exporter": "python",
   "pygments_lexer": "ipython3",
   "version": "3.11.7"
  }
 },
 "nbformat": 4,
 "nbformat_minor": 5
}
